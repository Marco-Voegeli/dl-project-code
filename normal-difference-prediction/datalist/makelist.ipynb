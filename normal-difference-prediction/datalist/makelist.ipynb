{
 "cells": [
  {
   "cell_type": "code",
   "execution_count": 8,
   "metadata": {},
   "outputs": [],
   "source": [
    "with open('metadata_images_split_scene_v1.csv') as old, open('testing_hypersim.odgt', 'w') as new:\n",
    "    for line in old:\n",
    "        strs = line.replace('\\n', '').split(',')\n",
    "        # print(strs)\n",
    "        if (strs[-2] == '' and bool(strs[-3]) and strs[-1] == 'test'):\n",
    "            new.write('{\"fpath_img\": \"' + strs[-1] + '/' + strs[0] + '/images/scene_' + strs[1] + '_final_preview/frame.%04d.color.jpg\", ' % (int(strs[2])) + \\\n",
    "                '\"fpath_segm\": \"' + strs[-1] + '/' + strs[0] + '/normals_diff/' + strs[1] + '/frame.%04d.npz\", ' %(int(strs[2])) + \\\n",
    "                '\"width\": 1024, \"height\": 768}\\n')"
   ]
  }
 ],
 "metadata": {
  "kernelspec": {
   "display_name": "Python 3",
   "language": "python",
   "name": "python3"
  },
  "language_info": {
   "codemirror_mode": {
    "name": "ipython",
    "version": 3
   },
   "file_extension": ".py",
   "mimetype": "text/x-python",
   "name": "python",
   "nbconvert_exporter": "python",
   "pygments_lexer": "ipython3",
   "version": "3.6.9 (default, Nov 25 2022, 14:10:45) \n[GCC 8.4.0]"
  },
  "orig_nbformat": 4,
  "vscode": {
   "interpreter": {
    "hash": "31f2aee4e71d21fbe5cf8b01ff0e069b9275f58929596ceb00d14d90e3e16cd6"
   }
  }
 },
 "nbformat": 4,
 "nbformat_minor": 2
}
